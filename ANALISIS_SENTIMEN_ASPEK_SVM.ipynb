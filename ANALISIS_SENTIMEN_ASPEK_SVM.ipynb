{
  "nbformat": 4,
  "nbformat_minor": 0,
  "metadata": {
    "colab": {
      "name": "ANALISIS SENTIMEN ASPEK-SVM.ipynb",
      "provenance": [],
      "collapsed_sections": [],
      "authorship_tag": "ABX9TyMdZ3khnXgX7ccxPft2gNqC",
      "include_colab_link": true
    },
    "kernelspec": {
      "name": "python3",
      "display_name": "Python 3"
    },
    "language_info": {
      "name": "python"
    }
  },
  "cells": [
    {
      "cell_type": "markdown",
      "metadata": {
        "id": "view-in-github",
        "colab_type": "text"
      },
      "source": [
        "<a href=\"https://colab.research.google.com/github/Sarangtrex98/Sarangtrex98/blob/main/ANALISIS_SENTIMEN_ASPEK_SVM.ipynb\" target=\"_parent\"><img src=\"https://colab.research.google.com/assets/colab-badge.svg\" alt=\"Open In Colab\"/></a>"
      ]
    },
    {
      "cell_type": "markdown",
      "metadata": {
        "id": "7dBOAIakusag"
      },
      "source": [
        "**1. ASPEK-SERVICE**"
      ]
    },
    {
      "cell_type": "code",
      "metadata": {
        "id": "9w3-lAgj9rv9"
      },
      "source": [
        "import pandas as pd"
      ],
      "execution_count": null,
      "outputs": []
    },
    {
      "cell_type": "code",
      "metadata": {
        "colab": {
          "base_uri": "https://localhost:8080/"
        },
        "id": "CzQCCB3KxDMU",
        "outputId": "71661d8e-cbdb-4beb-9153-1d1538b5b00d"
      },
      "source": [
        "from google.colab import drive\n",
        "drive.mount('/content/drive')"
      ],
      "execution_count": null,
      "outputs": [
        {
          "output_type": "stream",
          "name": "stdout",
          "text": [
            "Mounted at /content/drive\n"
          ]
        }
      ]
    },
    {
      "cell_type": "code",
      "metadata": {
        "id": "rGPA-fIJxLp_"
      },
      "source": [
        "df = pd.read_csv(\"/content/drive/MyDrive/Colab Notebooks/LABEL-SERVICE.csv\")"
      ],
      "execution_count": null,
      "outputs": []
    },
    {
      "cell_type": "code",
      "metadata": {
        "colab": {
          "base_uri": "https://localhost:8080/",
          "height": 302
        },
        "id": "Il_yVKXXxO9Q",
        "outputId": "805d8aae-cecc-4eb7-e913-e411c61fac5f"
      },
      "source": [
        "df.head(5)"
      ],
      "execution_count": null,
      "outputs": [
        {
          "output_type": "execute_result",
          "data": {
            "text/html": [
              "<div>\n",
              "<style scoped>\n",
              "    .dataframe tbody tr th:only-of-type {\n",
              "        vertical-align: middle;\n",
              "    }\n",
              "\n",
              "    .dataframe tbody tr th {\n",
              "        vertical-align: top;\n",
              "    }\n",
              "\n",
              "    .dataframe thead th {\n",
              "        text-align: right;\n",
              "    }\n",
              "</style>\n",
              "<table border=\"1\" class=\"dataframe\">\n",
              "  <thead>\n",
              "    <tr style=\"text-align: right;\">\n",
              "      <th></th>\n",
              "      <th>Unnamed: 0</th>\n",
              "      <th>Date</th>\n",
              "      <th>User Account</th>\n",
              "      <th>Scores</th>\n",
              "      <th>Review</th>\n",
              "      <th>Label</th>\n",
              "      <th>Aspect</th>\n",
              "    </tr>\n",
              "  </thead>\n",
              "  <tbody>\n",
              "    <tr>\n",
              "      <th>0</th>\n",
              "      <td>0</td>\n",
              "      <td>21/05/2021</td>\n",
              "      <td>AHA! KLASTULISTIWA</td>\n",
              "      <td>1</td>\n",
              "      <td>slow untracked customer service slow response ...</td>\n",
              "      <td>0.0</td>\n",
              "      <td>SERVICE</td>\n",
              "    </tr>\n",
              "    <tr>\n",
              "      <th>1</th>\n",
              "      <td>1</td>\n",
              "      <td>20/05/2021</td>\n",
              "      <td>urip sugiarti</td>\n",
              "      <td>5</td>\n",
              "      <td>good essentially first order chili fresh</td>\n",
              "      <td>1.0</td>\n",
              "      <td>SERVICE</td>\n",
              "    </tr>\n",
              "    <tr>\n",
              "      <th>2</th>\n",
              "      <td>2</td>\n",
              "      <td>20/05/2021</td>\n",
              "      <td>amirah makarim</td>\n",
              "      <td>5</td>\n",
              "      <td>good quality good price</td>\n",
              "      <td>1.0</td>\n",
              "      <td>SERVICE</td>\n",
              "    </tr>\n",
              "    <tr>\n",
              "      <th>3</th>\n",
              "      <td>6</td>\n",
              "      <td>15/05/2021</td>\n",
              "      <td>Maria Dora Rosa</td>\n",
              "      <td>5</td>\n",
              "      <td>satisfied buy fruit good quality delivery also...</td>\n",
              "      <td>1.0</td>\n",
              "      <td>SERVICE</td>\n",
              "    </tr>\n",
              "    <tr>\n",
              "      <th>4</th>\n",
              "      <td>7</td>\n",
              "      <td>11/5/2021</td>\n",
              "      <td>Afdhal Kurnia Surakhman</td>\n",
              "      <td>4</td>\n",
              "      <td>spending time conclusions recomended shopping ...</td>\n",
              "      <td>1.0</td>\n",
              "      <td>SERVICE</td>\n",
              "    </tr>\n",
              "  </tbody>\n",
              "</table>\n",
              "</div>"
            ],
            "text/plain": [
              "   Unnamed: 0        Date  ... Label   Aspect\n",
              "0           0  21/05/2021  ...   0.0  SERVICE\n",
              "1           1  20/05/2021  ...   1.0  SERVICE\n",
              "2           2  20/05/2021  ...   1.0  SERVICE\n",
              "3           6  15/05/2021  ...   1.0  SERVICE\n",
              "4           7   11/5/2021  ...   1.0  SERVICE\n",
              "\n",
              "[5 rows x 7 columns]"
            ]
          },
          "metadata": {},
          "execution_count": 4
        }
      ]
    },
    {
      "cell_type": "code",
      "metadata": {
        "colab": {
          "base_uri": "https://localhost:8080/"
        },
        "id": "Ox6ObX_2-lCF",
        "outputId": "41f6f460-7a74-40d1-ad52-7da010155e3a"
      },
      "source": [
        "df.shape"
      ],
      "execution_count": null,
      "outputs": [
        {
          "output_type": "execute_result",
          "data": {
            "text/plain": [
              "(421, 7)"
            ]
          },
          "metadata": {},
          "execution_count": 5
        }
      ]
    },
    {
      "cell_type": "markdown",
      "metadata": {
        "id": "r6BfVrJnuu6c"
      },
      "source": [
        "**- Resampling**"
      ]
    },
    {
      "cell_type": "code",
      "metadata": {
        "colab": {
          "base_uri": "https://localhost:8080/"
        },
        "id": "Qrg_wjvouyb2",
        "outputId": "c5db7c60-a7bd-4809-e346-6e4ef93e0de9"
      },
      "source": [
        "df['Label'].value_counts()"
      ],
      "execution_count": null,
      "outputs": [
        {
          "output_type": "execute_result",
          "data": {
            "text/plain": [
              "1.0    264\n",
              "0.0    156\n",
              "Name: Label, dtype: int64"
            ]
          },
          "metadata": {},
          "execution_count": 6
        }
      ]
    },
    {
      "cell_type": "code",
      "metadata": {
        "colab": {
          "base_uri": "https://localhost:8080/"
        },
        "id": "g_YZVZzku0yY",
        "outputId": "da4a1567-4e7f-4f71-e0ea-0daf9358f425"
      },
      "source": [
        "s_1 = df[df['Label']==0].sample(200,replace=True)\n",
        "s_2 = df[df['Label']==1].sample(200,replace=True)\n",
        "df = pd.concat([s_1, s_2])\n",
        "\n",
        "print(df.shape)\n",
        "print(df['Label'].value_counts(normalize=True))"
      ],
      "execution_count": null,
      "outputs": [
        {
          "output_type": "stream",
          "name": "stdout",
          "text": [
            "(400, 7)\n",
            "1.0    0.5\n",
            "0.0    0.5\n",
            "Name: Label, dtype: float64\n"
          ]
        }
      ]
    },
    {
      "cell_type": "markdown",
      "metadata": {
        "id": "U1dQ33e4u6vr"
      },
      "source": [
        "**- Sk.Learn SVM**"
      ]
    },
    {
      "cell_type": "code",
      "metadata": {
        "id": "UIgMv7ktvBJy"
      },
      "source": [
        "from sklearn.model_selection import train_test_split\n",
        "\n",
        "x_train, x_test, y_train, y_test = train_test_split(df['Review'], df['Label'],\n",
        "                                                    test_size=0.3, stratify=df['Label'], random_state=0)"
      ],
      "execution_count": null,
      "outputs": []
    },
    {
      "cell_type": "code",
      "metadata": {
        "id": "2fNfWPxAvFj6"
      },
      "source": [
        "from sklearn.feature_extraction.text import TfidfVectorizer\n",
        "\n",
        "\n",
        "vectorizer = TfidfVectorizer()"
      ],
      "execution_count": null,
      "outputs": []
    },
    {
      "cell_type": "code",
      "metadata": {
        "colab": {
          "base_uri": "https://localhost:8080/"
        },
        "id": "IvLEYyJyvIek",
        "outputId": "f7575cb1-2648-4b48-b858-b2ccf47c9e76"
      },
      "source": [
        "# implementasi pada dokumen\n",
        "x_train = vectorizer.fit_transform(x_train)\n",
        "x_test = vectorizer.transform(x_test)\n",
        "\n",
        "print(x_train.shape)\n",
        "print(x_test.shape)"
      ],
      "execution_count": null,
      "outputs": [
        {
          "output_type": "stream",
          "name": "stdout",
          "text": [
            "(280, 1119)\n",
            "(120, 1119)\n"
          ]
        }
      ]
    },
    {
      "cell_type": "code",
      "metadata": {
        "id": "CE3rYuaRvKQX"
      },
      "source": [
        "def preprocess_data(data):\n",
        "    # cleansing data\n",
        "    data = cleansing(data)\n",
        "    \n",
        "    # hapus stopwords\n",
        "    factory = StopWordRemoverFactory()\n",
        "    stopword = factory.create_stop_word_remover()\n",
        "    data = stopword.remove(data)\n",
        "    \n",
        "    # stemming\n",
        "    factory = StemmerFactory()\n",
        "    stemmer = factory.create_stemmer()\n",
        "    data = stemmer.stem(data)\n",
        "    \n",
        "    # count vectorizer\n",
        "    data = vectorizer.transform([data])\n",
        "    \n",
        "    return data"
      ],
      "execution_count": null,
      "outputs": []
    },
    {
      "cell_type": "code",
      "metadata": {
        "id": "IMCA9lwDvNIz"
      },
      "source": [
        "from sklearn import svm\n",
        "from sklearn.model_selection import cross_val_score\n",
        "\n",
        "clf = svm.SVC(kernel=\"linear\")\n",
        "\n",
        "#cross_val_score(clf, x_train, y_train, cv=70)"
      ],
      "execution_count": null,
      "outputs": []
    },
    {
      "cell_type": "code",
      "metadata": {
        "id": "LtrM6FQzvO_s"
      },
      "source": [
        "# lakukan prediksi pada data test\n",
        "clf.fit(x_train,y_train)\n",
        "predict = clf.predict(x_test)"
      ],
      "execution_count": null,
      "outputs": []
    },
    {
      "cell_type": "code",
      "metadata": {
        "id": "HU4IoYV8vQxP"
      },
      "source": [
        "# import library evaluation\n",
        "from sklearn.metrics import f1_score, recall_score, precision_score, confusion_matrix, accuracy_score\n",
        "from sklearn.metrics import confusion_matrix, classification_report"
      ],
      "execution_count": null,
      "outputs": []
    },
    {
      "cell_type": "code",
      "metadata": {
        "colab": {
          "base_uri": "https://localhost:8080/"
        },
        "id": "Oj7KFMqGvS0M",
        "outputId": "4ad3ed0f-2777-4cd2-b321-e96c2a50d1a3"
      },
      "source": [
        "print('Akurasi = ', accuracy_score(y_test, predict))\n",
        "print(confusion_matrix(y_test, predict))\n",
        "print(classification_report(y_test, predict))"
      ],
      "execution_count": null,
      "outputs": [
        {
          "output_type": "stream",
          "name": "stdout",
          "text": [
            "Akurasi =  0.875\n",
            "[[57  3]\n",
            " [12 48]]\n",
            "              precision    recall  f1-score   support\n",
            "\n",
            "         0.0       0.83      0.95      0.88        60\n",
            "         1.0       0.94      0.80      0.86        60\n",
            "\n",
            "    accuracy                           0.88       120\n",
            "   macro avg       0.88      0.88      0.87       120\n",
            "weighted avg       0.88      0.88      0.87       120\n",
            "\n"
          ]
        }
      ]
    },
    {
      "cell_type": "code",
      "metadata": {
        "colab": {
          "base_uri": "https://localhost:8080/"
        },
        "id": "qGqhdNFovV5B",
        "outputId": "260abfd8-b74e-4222-80f4-e28cf1c81dc6"
      },
      "source": [
        "# f1_score\n",
        "print(\"f1 score hasil prediksi adalah: \")\n",
        "print(f1_score(y_test, predict))\n",
        "\n",
        "# accuracy score\n",
        "print(\"accuracy score hasil prediksi adalah: \")\n",
        "print(accuracy_score(y_test, predict))\n",
        "\n",
        "# precision score\n",
        "print(\"precision score hasil prediksi adalah: \")\n",
        "print(precision_score(y_test, predict))\n",
        "\n",
        "# recall score\n",
        "print(\"recall score hasil prediksi adalah: \")\n",
        "print(recall_score(y_test, predict))"
      ],
      "execution_count": null,
      "outputs": [
        {
          "output_type": "stream",
          "name": "stdout",
          "text": [
            "f1 score hasil prediksi adalah: \n",
            "0.8648648648648648\n",
            "accuracy score hasil prediksi adalah: \n",
            "0.875\n",
            "precision score hasil prediksi adalah: \n",
            "0.9411764705882353\n",
            "recall score hasil prediksi adalah: \n",
            "0.8\n"
          ]
        }
      ]
    },
    {
      "cell_type": "code",
      "metadata": {
        "colab": {
          "base_uri": "https://localhost:8080/"
        },
        "id": "vUNIdN0EvZm6",
        "outputId": "1fd18a39-2b1b-41d7-d94a-8e5c8e48b08d"
      },
      "source": [
        "# confusion matrix\n",
        "tn, fp, fn, tp = confusion_matrix(y_test, predict).ravel()\n",
        "tn, fp, fn, tp"
      ],
      "execution_count": null,
      "outputs": [
        {
          "output_type": "execute_result",
          "data": {
            "text/plain": [
              "(57, 3, 12, 48)"
            ]
          },
          "metadata": {},
          "execution_count": 17
        }
      ]
    },
    {
      "cell_type": "markdown",
      "metadata": {
        "id": "qSHWyLCmB6SP"
      },
      "source": [
        "**2. ASPEK-SYSTEM**"
      ]
    },
    {
      "cell_type": "code",
      "metadata": {
        "colab": {
          "base_uri": "https://localhost:8080/"
        },
        "id": "7JUpy5DjCH1Z",
        "outputId": "90b808b7-b357-4c3c-80ae-9d0c3a2d2a79"
      },
      "source": [
        "from google.colab import drive\n",
        "drive.mount('/content/drive')"
      ],
      "execution_count": null,
      "outputs": [
        {
          "output_type": "stream",
          "name": "stdout",
          "text": [
            "Drive already mounted at /content/drive; to attempt to forcibly remount, call drive.mount(\"/content/drive\", force_remount=True).\n"
          ]
        }
      ]
    },
    {
      "cell_type": "code",
      "metadata": {
        "id": "bjpoFlGACX7M"
      },
      "source": [
        "df = pd.read_csv(\"/content/drive/MyDrive/Colab Notebooks/LABEL-SYSTEM.csv\")"
      ],
      "execution_count": null,
      "outputs": []
    },
    {
      "cell_type": "code",
      "metadata": {
        "colab": {
          "base_uri": "https://localhost:8080/",
          "height": 285
        },
        "id": "R7QjVvT1CbQo",
        "outputId": "8699397b-d7f4-4c1c-a367-61e866aee52a"
      },
      "source": [
        "df.head(5)"
      ],
      "execution_count": null,
      "outputs": [
        {
          "output_type": "execute_result",
          "data": {
            "text/html": [
              "<div>\n",
              "<style scoped>\n",
              "    .dataframe tbody tr th:only-of-type {\n",
              "        vertical-align: middle;\n",
              "    }\n",
              "\n",
              "    .dataframe tbody tr th {\n",
              "        vertical-align: top;\n",
              "    }\n",
              "\n",
              "    .dataframe thead th {\n",
              "        text-align: right;\n",
              "    }\n",
              "</style>\n",
              "<table border=\"1\" class=\"dataframe\">\n",
              "  <thead>\n",
              "    <tr style=\"text-align: right;\">\n",
              "      <th></th>\n",
              "      <th>Unnamed: 0</th>\n",
              "      <th>Date</th>\n",
              "      <th>User Account</th>\n",
              "      <th>Scores</th>\n",
              "      <th>Review</th>\n",
              "      <th>Label</th>\n",
              "      <th>Aspect</th>\n",
              "    </tr>\n",
              "  </thead>\n",
              "  <tbody>\n",
              "    <tr>\n",
              "      <th>0</th>\n",
              "      <td>8</td>\n",
              "      <td>10/5/2021</td>\n",
              "      <td>SMART Pusdiklat</td>\n",
              "      <td>5</td>\n",
              "      <td>lightweight application navigation clear easy ...</td>\n",
              "      <td>1</td>\n",
              "      <td>SYSTEM</td>\n",
              "    </tr>\n",
              "    <tr>\n",
              "      <th>1</th>\n",
              "      <td>11</td>\n",
              "      <td>8/5/2021</td>\n",
              "      <td>Eklesia Hosana</td>\n",
              "      <td>5</td>\n",
              "      <td>great applications</td>\n",
              "      <td>1</td>\n",
              "      <td>SYSTEM</td>\n",
              "    </tr>\n",
              "    <tr>\n",
              "      <th>2</th>\n",
              "      <td>16</td>\n",
              "      <td>5/5/2021</td>\n",
              "      <td>Hendra Gunawan Saputra</td>\n",
              "      <td>5</td>\n",
              "      <td>easy process</td>\n",
              "      <td>1</td>\n",
              "      <td>SYSTEM</td>\n",
              "    </tr>\n",
              "    <tr>\n",
              "      <th>3</th>\n",
              "      <td>20</td>\n",
              "      <td>2/5/2021</td>\n",
              "      <td>Jessica Novella</td>\n",
              "      <td>1</td>\n",
              "      <td>force closed</td>\n",
              "      <td>0</td>\n",
              "      <td>SYSTEM</td>\n",
              "    </tr>\n",
              "    <tr>\n",
              "      <th>4</th>\n",
              "      <td>26</td>\n",
              "      <td>27/04/2021</td>\n",
              "      <td>Ridwan Zanuar</td>\n",
              "      <td>5</td>\n",
              "      <td>nice application easy use look forward get cas...</td>\n",
              "      <td>1</td>\n",
              "      <td>SYSTEM</td>\n",
              "    </tr>\n",
              "  </tbody>\n",
              "</table>\n",
              "</div>"
            ],
            "text/plain": [
              "   Unnamed: 0        Date  ... Label  Aspect\n",
              "0           8   10/5/2021  ...     1  SYSTEM\n",
              "1          11    8/5/2021  ...     1  SYSTEM\n",
              "2          16    5/5/2021  ...     1  SYSTEM\n",
              "3          20    2/5/2021  ...     0  SYSTEM\n",
              "4          26  27/04/2021  ...     1  SYSTEM\n",
              "\n",
              "[5 rows x 7 columns]"
            ]
          },
          "metadata": {},
          "execution_count": 53
        }
      ]
    },
    {
      "cell_type": "code",
      "metadata": {
        "colab": {
          "base_uri": "https://localhost:8080/"
        },
        "id": "QPtM4zhQCcro",
        "outputId": "f4e9e9c1-7cd5-4ff4-9ad3-cf6846a79464"
      },
      "source": [
        "df.shape"
      ],
      "execution_count": null,
      "outputs": [
        {
          "output_type": "execute_result",
          "data": {
            "text/plain": [
              "(325, 7)"
            ]
          },
          "metadata": {},
          "execution_count": 54
        }
      ]
    },
    {
      "cell_type": "code",
      "metadata": {
        "colab": {
          "base_uri": "https://localhost:8080/"
        },
        "id": "YiIqxUiKCeoK",
        "outputId": "3025b6c5-089e-4600-d294-740b987ce25e"
      },
      "source": [
        "df['Label'].value_counts()"
      ],
      "execution_count": null,
      "outputs": [
        {
          "output_type": "execute_result",
          "data": {
            "text/plain": [
              "0    175\n",
              "1    150\n",
              "Name: Label, dtype: int64"
            ]
          },
          "metadata": {},
          "execution_count": 55
        }
      ]
    },
    {
      "cell_type": "markdown",
      "metadata": {
        "id": "InuXWZKFDWxt"
      },
      "source": [
        "**- Resampling**"
      ]
    },
    {
      "cell_type": "code",
      "metadata": {
        "colab": {
          "base_uri": "https://localhost:8080/"
        },
        "id": "T_FbDN4LCgO8",
        "outputId": "167ecf6c-f811-44f2-d306-e96dab926664"
      },
      "source": [
        "s_1 = df[df['Label']==0].sample(200,replace=True)\n",
        "s_2 = df[df['Label']==1].sample(200,replace=True)\n",
        "df = pd.concat([s_1, s_2])\n",
        "\n",
        "print(df.shape)\n",
        "print(df['Label'].value_counts(normalize=True))"
      ],
      "execution_count": null,
      "outputs": [
        {
          "output_type": "stream",
          "name": "stdout",
          "text": [
            "(400, 7)\n",
            "1    0.5\n",
            "0    0.5\n",
            "Name: Label, dtype: float64\n"
          ]
        }
      ]
    },
    {
      "cell_type": "markdown",
      "metadata": {
        "id": "xxi33SuCDem9"
      },
      "source": [
        "**- Sk.Learn SVM**"
      ]
    },
    {
      "cell_type": "code",
      "metadata": {
        "id": "biBexChtChpY"
      },
      "source": [
        "from sklearn.model_selection import train_test_split\n",
        "\n",
        "x_train, x_test, y_train, y_test = train_test_split(df['Review'], df['Label'],\n",
        "                                                    test_size=0.3, stratify=df['Label'], random_state=0)"
      ],
      "execution_count": null,
      "outputs": []
    },
    {
      "cell_type": "code",
      "metadata": {
        "id": "TjVMkYUxCkmO"
      },
      "source": [
        "from sklearn.feature_extraction.text import TfidfVectorizer\n",
        "\n",
        "\n",
        "vectorizer = TfidfVectorizer()"
      ],
      "execution_count": null,
      "outputs": []
    },
    {
      "cell_type": "code",
      "metadata": {
        "colab": {
          "base_uri": "https://localhost:8080/"
        },
        "id": "PBietqNpCmkf",
        "outputId": "bd58c178-afca-40ba-f7ea-6b611779cf61"
      },
      "source": [
        "# implementasi pada dokumen\n",
        "x_train = vectorizer.fit_transform(x_train)\n",
        "x_test = vectorizer.transform(x_test)\n",
        "\n",
        "print(x_train.shape)\n",
        "print(x_test.shape)"
      ],
      "execution_count": null,
      "outputs": [
        {
          "output_type": "stream",
          "name": "stdout",
          "text": [
            "(280, 798)\n",
            "(120, 798)\n"
          ]
        }
      ]
    },
    {
      "cell_type": "code",
      "metadata": {
        "id": "C2nUdQ2PCojt"
      },
      "source": [
        "def preprocess_data(data):\n",
        "    # cleansing data\n",
        "    data = cleansing(data)\n",
        "    \n",
        "    # hapus stopwords\n",
        "    factory = StopWordRemoverFactory()\n",
        "    stopword = factory.create_stop_word_remover()\n",
        "    data = stopword.remove(data)\n",
        "    \n",
        "    # stemming\n",
        "    factory = StemmerFactory()\n",
        "    stemmer = factory.create_stemmer()\n",
        "    data = stemmer.stem(data)\n",
        "    \n",
        "    # count vectorizer\n",
        "    data = vectorizer.transform([data])\n",
        "    \n",
        "    return data"
      ],
      "execution_count": null,
      "outputs": []
    },
    {
      "cell_type": "code",
      "metadata": {
        "id": "tKc20T1LCqeL"
      },
      "source": [
        "from sklearn import svm\n",
        "from sklearn.model_selection import cross_val_score\n",
        "\n",
        "clf = svm.SVC(kernel=\"linear\")\n",
        "\n",
        "#cross_val_score(clf, x_train, y_train, cv=70)"
      ],
      "execution_count": null,
      "outputs": []
    },
    {
      "cell_type": "code",
      "metadata": {
        "id": "GnJ972niCtTR"
      },
      "source": [
        "# lakukan prediksi pada data test\n",
        "clf.fit(x_train,y_train)\n",
        "predict = clf.predict(x_test)"
      ],
      "execution_count": null,
      "outputs": []
    },
    {
      "cell_type": "code",
      "metadata": {
        "id": "_qlDptsCCuuk"
      },
      "source": [
        "# import library evaluation\n",
        "from sklearn.metrics import f1_score, recall_score, precision_score, confusion_matrix, accuracy_score\n",
        "from sklearn.metrics import confusion_matrix, classification_report"
      ],
      "execution_count": null,
      "outputs": []
    },
    {
      "cell_type": "code",
      "metadata": {
        "colab": {
          "base_uri": "https://localhost:8080/"
        },
        "id": "Gg0CR8kaCx18",
        "outputId": "1035d214-8d90-4897-f7fb-e89fa4c7d79b"
      },
      "source": [
        "print('Akurasi = ', accuracy_score(y_test, predict))\n",
        "print(confusion_matrix(y_test, predict))\n",
        "print(classification_report(y_test, predict))"
      ],
      "execution_count": null,
      "outputs": [
        {
          "output_type": "stream",
          "name": "stdout",
          "text": [
            "Akurasi =  0.9166666666666666\n",
            "[[60  0]\n",
            " [10 50]]\n",
            "              precision    recall  f1-score   support\n",
            "\n",
            "           0       0.86      1.00      0.92        60\n",
            "           1       1.00      0.83      0.91        60\n",
            "\n",
            "    accuracy                           0.92       120\n",
            "   macro avg       0.93      0.92      0.92       120\n",
            "weighted avg       0.93      0.92      0.92       120\n",
            "\n"
          ]
        }
      ]
    },
    {
      "cell_type": "code",
      "metadata": {
        "colab": {
          "base_uri": "https://localhost:8080/"
        },
        "id": "RkxLLv_jC0X6",
        "outputId": "db27c1b0-dc6a-4671-c407-fc4b5ce8a8a8"
      },
      "source": [
        "# f1_score\n",
        "print(\"f1 score hasil prediksi adalah: \")\n",
        "print(f1_score(y_test, predict))\n",
        "\n",
        "# accuracy score\n",
        "print(\"accuracy score hasil prediksi adalah: \")\n",
        "print(accuracy_score(y_test, predict))\n",
        "\n",
        "# precision score\n",
        "print(\"precision score hasil prediksi adalah: \")\n",
        "print(precision_score(y_test, predict))\n",
        "\n",
        "# recall score\n",
        "print(\"recall score hasil prediksi adalah: \")\n",
        "print(recall_score(y_test, predict))"
      ],
      "execution_count": null,
      "outputs": [
        {
          "output_type": "stream",
          "name": "stdout",
          "text": [
            "f1 score hasil prediksi adalah: \n",
            "0.9090909090909091\n",
            "accuracy score hasil prediksi adalah: \n",
            "0.9166666666666666\n",
            "precision score hasil prediksi adalah: \n",
            "1.0\n",
            "recall score hasil prediksi adalah: \n",
            "0.8333333333333334\n"
          ]
        }
      ]
    },
    {
      "cell_type": "code",
      "metadata": {
        "colab": {
          "base_uri": "https://localhost:8080/"
        },
        "id": "3zkkuz-FC2U3",
        "outputId": "7466ebac-65ae-4f7d-df26-6b0eb51191aa"
      },
      "source": [
        "# confusion matrix\n",
        "tn, fp, fn, tp = confusion_matrix(y_test, predict).ravel()\n",
        "tn, fp, fn, tp"
      ],
      "execution_count": null,
      "outputs": [
        {
          "output_type": "execute_result",
          "data": {
            "text/plain": [
              "(60, 0, 10, 50)"
            ]
          },
          "metadata": {},
          "execution_count": 66
        }
      ]
    },
    {
      "cell_type": "markdown",
      "metadata": {
        "id": "y2nC2E0xFOGp"
      },
      "source": [
        "**3. ASPEK-USEFULLNES**"
      ]
    },
    {
      "cell_type": "code",
      "metadata": {
        "colab": {
          "base_uri": "https://localhost:8080/"
        },
        "id": "yfXUgTDrFRZD",
        "outputId": "511e4af6-5534-44a2-90c0-44a7233a8f6b"
      },
      "source": [
        "from google.colab import drive\n",
        "drive.mount('/content/drive')"
      ],
      "execution_count": null,
      "outputs": [
        {
          "output_type": "stream",
          "name": "stdout",
          "text": [
            "Drive already mounted at /content/drive; to attempt to forcibly remount, call drive.mount(\"/content/drive\", force_remount=True).\n"
          ]
        }
      ]
    },
    {
      "cell_type": "code",
      "metadata": {
        "id": "9rrYCvB2FTR6"
      },
      "source": [
        "df = pd.read_csv(\"/content/drive/MyDrive/Colab Notebooks/LABEL-USEFULLNESS.csv\")"
      ],
      "execution_count": null,
      "outputs": []
    },
    {
      "cell_type": "code",
      "metadata": {
        "colab": {
          "base_uri": "https://localhost:8080/",
          "height": 252
        },
        "id": "WaTdZMOVFWXk",
        "outputId": "ba874d5d-34e7-43bb-a641-2cd063436670"
      },
      "source": [
        "df.head(5)"
      ],
      "execution_count": null,
      "outputs": [
        {
          "output_type": "execute_result",
          "data": {
            "text/html": [
              "<div>\n",
              "<style scoped>\n",
              "    .dataframe tbody tr th:only-of-type {\n",
              "        vertical-align: middle;\n",
              "    }\n",
              "\n",
              "    .dataframe tbody tr th {\n",
              "        vertical-align: top;\n",
              "    }\n",
              "\n",
              "    .dataframe thead th {\n",
              "        text-align: right;\n",
              "    }\n",
              "</style>\n",
              "<table border=\"1\" class=\"dataframe\">\n",
              "  <thead>\n",
              "    <tr style=\"text-align: right;\">\n",
              "      <th></th>\n",
              "      <th>Unnamed: 0</th>\n",
              "      <th>Date</th>\n",
              "      <th>User Account</th>\n",
              "      <th>Scores</th>\n",
              "      <th>Review</th>\n",
              "      <th>Label</th>\n",
              "      <th>Aspect</th>\n",
              "    </tr>\n",
              "  </thead>\n",
              "  <tbody>\n",
              "    <tr>\n",
              "      <th>0</th>\n",
              "      <td>3</td>\n",
              "      <td>18/05/2021</td>\n",
              "      <td>Aldy Arsyad</td>\n",
              "      <td>5</td>\n",
              "      <td>cool shopping anytime anywhere product fresh t...</td>\n",
              "      <td>1</td>\n",
              "      <td>USEFULLNESS</td>\n",
              "    </tr>\n",
              "    <tr>\n",
              "      <th>1</th>\n",
              "      <td>4</td>\n",
              "      <td>16/05/2021</td>\n",
              "      <td>Iin Rosita</td>\n",
              "      <td>5</td>\n",
              "      <td>recomended</td>\n",
              "      <td>1</td>\n",
              "      <td>USEFULLNESS</td>\n",
              "    </tr>\n",
              "    <tr>\n",
              "      <th>2</th>\n",
              "      <td>5</td>\n",
              "      <td>16/05/2021</td>\n",
              "      <td>Hermayanti</td>\n",
              "      <td>5</td>\n",
              "      <td>good good</td>\n",
              "      <td>1</td>\n",
              "      <td>USEFULLNESS</td>\n",
              "    </tr>\n",
              "    <tr>\n",
              "      <th>3</th>\n",
              "      <td>21</td>\n",
              "      <td>1/5/2021</td>\n",
              "      <td>Agus Eryanta</td>\n",
              "      <td>5</td>\n",
              "      <td>spending practical complete kitchen</td>\n",
              "      <td>1</td>\n",
              "      <td>USEFULLNESS</td>\n",
              "    </tr>\n",
              "    <tr>\n",
              "      <th>4</th>\n",
              "      <td>23</td>\n",
              "      <td>30/04/2021</td>\n",
              "      <td>Dila Preti</td>\n",
              "      <td>5</td>\n",
              "      <td>good choices</td>\n",
              "      <td>1</td>\n",
              "      <td>USEFULLNESS</td>\n",
              "    </tr>\n",
              "  </tbody>\n",
              "</table>\n",
              "</div>"
            ],
            "text/plain": [
              "   Unnamed: 0        Date  ... Label       Aspect\n",
              "0           3  18/05/2021  ...     1  USEFULLNESS\n",
              "1           4  16/05/2021  ...     1  USEFULLNESS\n",
              "2           5  16/05/2021  ...     1  USEFULLNESS\n",
              "3          21    1/5/2021  ...     1  USEFULLNESS\n",
              "4          23  30/04/2021  ...     1  USEFULLNESS\n",
              "\n",
              "[5 rows x 7 columns]"
            ]
          },
          "metadata": {},
          "execution_count": 36
        }
      ]
    },
    {
      "cell_type": "code",
      "metadata": {
        "colab": {
          "base_uri": "https://localhost:8080/"
        },
        "id": "ih35jBh4FYh-",
        "outputId": "a24bfa6a-bb81-434f-a241-4791c79c904e"
      },
      "source": [
        "df.shape"
      ],
      "execution_count": null,
      "outputs": [
        {
          "output_type": "execute_result",
          "data": {
            "text/plain": [
              "(318, 7)"
            ]
          },
          "metadata": {},
          "execution_count": 37
        }
      ]
    },
    {
      "cell_type": "markdown",
      "metadata": {
        "id": "LU0YXhBhJS7H"
      },
      "source": [
        "**- Resampling**"
      ]
    },
    {
      "cell_type": "code",
      "metadata": {
        "colab": {
          "base_uri": "https://localhost:8080/"
        },
        "id": "eEloYrnKFaYG",
        "outputId": "0195963c-b5f4-49b6-f5df-71b1de111727"
      },
      "source": [
        "df['Label'].value_counts()"
      ],
      "execution_count": null,
      "outputs": [
        {
          "output_type": "execute_result",
          "data": {
            "text/plain": [
              "1    302\n",
              "0     16\n",
              "Name: Label, dtype: int64"
            ]
          },
          "metadata": {},
          "execution_count": 38
        }
      ]
    },
    {
      "cell_type": "code",
      "metadata": {
        "id": "UprM92kHFbVE",
        "colab": {
          "base_uri": "https://localhost:8080/"
        },
        "outputId": "347cd69e-9046-4e93-a147-0f6394985561"
      },
      "source": [
        "s_1 = df[df['Label']==0].sample(200,replace=True)\n",
        "s_2 = df[df['Label']==1].sample(200,replace=True)\n",
        "df = pd.concat([s_1, s_2])\n",
        "\n",
        "print(df.shape)\n",
        "print(df['Label'].value_counts(normalize=True))"
      ],
      "execution_count": null,
      "outputs": [
        {
          "output_type": "stream",
          "name": "stdout",
          "text": [
            "(400, 7)\n",
            "1    0.5\n",
            "0    0.5\n",
            "Name: Label, dtype: float64\n"
          ]
        }
      ]
    },
    {
      "cell_type": "markdown",
      "metadata": {
        "id": "qkEioFKVJZv4"
      },
      "source": [
        "**- Sk.Learn SVM**"
      ]
    },
    {
      "cell_type": "code",
      "metadata": {
        "id": "a4kprJLYFemM"
      },
      "source": [
        "from sklearn.model_selection import train_test_split\n",
        "\n",
        "x_train, x_test, y_train, y_test = train_test_split(df['Review'], df['Label'],\n",
        "                                                    test_size=0.3, stratify=df['Label'], random_state=0)"
      ],
      "execution_count": null,
      "outputs": []
    },
    {
      "cell_type": "code",
      "metadata": {
        "id": "KlB8kRMsFhCZ"
      },
      "source": [
        "from sklearn.feature_extraction.text import TfidfVectorizer\n",
        "\n",
        "\n",
        "vectorizer = TfidfVectorizer()"
      ],
      "execution_count": null,
      "outputs": []
    },
    {
      "cell_type": "code",
      "metadata": {
        "colab": {
          "base_uri": "https://localhost:8080/"
        },
        "id": "-f7M7JRpFifa",
        "outputId": "1854e6e2-2e99-46f5-c331-edeaca84d1b1"
      },
      "source": [
        "# implementasi pada dokumen\n",
        "x_train = vectorizer.fit_transform(x_train)\n",
        "x_test = vectorizer.transform(x_test)\n",
        "\n",
        "print(x_train.shape)\n",
        "print(x_test.shape)"
      ],
      "execution_count": null,
      "outputs": [
        {
          "output_type": "stream",
          "name": "stdout",
          "text": [
            "(280, 349)\n",
            "(120, 349)\n"
          ]
        }
      ]
    },
    {
      "cell_type": "code",
      "metadata": {
        "id": "OCqfwYEBFkUP"
      },
      "source": [
        "def preprocess_data(data):\n",
        "    # cleansing data\n",
        "    data = cleansing(data)\n",
        "    \n",
        "    # hapus stopwords\n",
        "    factory = StopWordRemoverFactory()\n",
        "    stopword = factory.create_stop_word_remover()\n",
        "    data = stopword.remove(data)\n",
        "    \n",
        "    # stemming\n",
        "    factory = StemmerFactory()\n",
        "    stemmer = factory.create_stemmer()\n",
        "    data = stemmer.stem(data)\n",
        "    \n",
        "    # count vectorizer\n",
        "    data = vectorizer.transform([data])\n",
        "    \n",
        "    return data"
      ],
      "execution_count": null,
      "outputs": []
    },
    {
      "cell_type": "code",
      "metadata": {
        "id": "VZx3bwIgFlxO"
      },
      "source": [
        "from sklearn import svm\n",
        "from sklearn.model_selection import cross_val_score\n",
        "\n",
        "clf = svm.SVC(kernel=\"linear\")\n",
        "\n",
        "#cross_val_score(clf, x_train, y_train, cv=70)"
      ],
      "execution_count": null,
      "outputs": []
    },
    {
      "cell_type": "code",
      "metadata": {
        "id": "lgN4fhewFnuw"
      },
      "source": [
        "# lakukan prediksi pada data test\n",
        "clf.fit(x_train,y_train)\n",
        "predict = clf.predict(x_test)"
      ],
      "execution_count": null,
      "outputs": []
    },
    {
      "cell_type": "code",
      "metadata": {
        "id": "xlDwzBleFpUW"
      },
      "source": [
        "# import library evaluation\n",
        "from sklearn.metrics import f1_score, recall_score, precision_score, confusion_matrix, accuracy_score\n",
        "from sklearn.metrics import confusion_matrix, classification_report"
      ],
      "execution_count": null,
      "outputs": []
    },
    {
      "cell_type": "code",
      "metadata": {
        "colab": {
          "base_uri": "https://localhost:8080/"
        },
        "id": "x83BB5ujFrT4",
        "outputId": "11e92164-938e-43cb-ce1d-9c19f17fd5e0"
      },
      "source": [
        "print('Akurasi = ', accuracy_score(y_test, predict))\n",
        "print(confusion_matrix(y_test, predict))\n",
        "print(classification_report(y_test, predict))"
      ],
      "execution_count": null,
      "outputs": [
        {
          "output_type": "stream",
          "name": "stdout",
          "text": [
            "Akurasi =  1.0\n",
            "[[60  0]\n",
            " [ 0 60]]\n",
            "              precision    recall  f1-score   support\n",
            "\n",
            "           0       1.00      1.00      1.00        60\n",
            "           1       1.00      1.00      1.00        60\n",
            "\n",
            "    accuracy                           1.00       120\n",
            "   macro avg       1.00      1.00      1.00       120\n",
            "weighted avg       1.00      1.00      1.00       120\n",
            "\n"
          ]
        }
      ]
    },
    {
      "cell_type": "code",
      "metadata": {
        "colab": {
          "base_uri": "https://localhost:8080/"
        },
        "id": "2LQSZ07IFuVr",
        "outputId": "78b542f3-9387-4e8d-95a8-27828c0456e1"
      },
      "source": [
        "# f1_score\n",
        "print(\"f1 score hasil prediksi adalah: \")\n",
        "print(f1_score(y_test, predict))\n",
        "\n",
        "# accuracy score\n",
        "print(\"accuracy score hasil prediksi adalah: \")\n",
        "print(accuracy_score(y_test, predict))\n",
        "\n",
        "# precision score\n",
        "print(\"precision score hasil prediksi adalah: \")\n",
        "print(precision_score(y_test, predict))\n",
        "\n",
        "# recall score\n",
        "print(\"recall score hasil prediksi adalah: \")\n",
        "print(recall_score(y_test, predict))"
      ],
      "execution_count": null,
      "outputs": [
        {
          "output_type": "stream",
          "name": "stdout",
          "text": [
            "f1 score hasil prediksi adalah: \n",
            "1.0\n",
            "accuracy score hasil prediksi adalah: \n",
            "1.0\n",
            "precision score hasil prediksi adalah: \n",
            "1.0\n",
            "recall score hasil prediksi adalah: \n",
            "1.0\n"
          ]
        }
      ]
    },
    {
      "cell_type": "code",
      "metadata": {
        "colab": {
          "base_uri": "https://localhost:8080/"
        },
        "id": "jdnoCvR1FvDu",
        "outputId": "b18c3460-b0ff-4161-d218-ca4bed1fed82"
      },
      "source": [
        "# confusion matrix\n",
        "tn, fp, fn, tp = confusion_matrix(y_test, predict).ravel()\n",
        "tn, fp, fn, tp"
      ],
      "execution_count": null,
      "outputs": [
        {
          "output_type": "execute_result",
          "data": {
            "text/plain": [
              "(60, 0, 0, 60)"
            ]
          },
          "metadata": {},
          "execution_count": 50
        }
      ]
    }
  ]
}