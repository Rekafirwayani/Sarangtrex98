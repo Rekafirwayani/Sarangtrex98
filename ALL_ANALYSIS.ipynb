{
  "nbformat": 4,
  "nbformat_minor": 0,
  "metadata": {
    "colab": {
      "name": "[@]ALL ANALYSIS.ipynb",
      "provenance": [],
      "collapsed_sections": [],
      "authorship_tag": "ABX9TyMb17x5/Qn3PsSLfXxTrK3X",
      "include_colab_link": true
    },
    "kernelspec": {
      "name": "python3",
      "display_name": "Python 3"
    },
    "language_info": {
      "name": "python"
    }
  },
  "cells": [
    {
      "cell_type": "markdown",
      "metadata": {
        "id": "view-in-github",
        "colab_type": "text"
      },
      "source": [
        "<a href=\"https://colab.research.google.com/github/Sarangtrex98/Sarangtrex98/blob/main/ALL_ANALYSIS.ipynb\" target=\"_parent\"><img src=\"https://colab.research.google.com/assets/colab-badge.svg\" alt=\"Open In Colab\"/></a>"
      ]
    },
    {
      "cell_type": "markdown",
      "metadata": {
        "id": "o0cVYscmrSH0"
      },
      "source": [
        "\n",
        "**1. Import Library**"
      ]
    },
    {
      "cell_type": "markdown",
      "metadata": {
        "id": "lIZyG6Tsragr"
      },
      "source": [
        "VADER (Valence Aware Dictionary and sEntiment Reasoner) is a lexicon and rule-based sentiment analysis tool that is specifically attuned to sentiments expressed in social media. Source : https://github.com/cjhutto/vaderSentiment"
      ]
    },
    {
      "cell_type": "code",
      "metadata": {
        "id": "NELJByUIrfDc",
        "colab": {
          "base_uri": "https://localhost:8080/"
        },
        "outputId": "7652ee6a-ba7f-42e3-9ef6-b3afa0ff7a1a"
      },
      "source": [
        "!pip install vaderSentiment"
      ],
      "execution_count": null,
      "outputs": [
        {
          "output_type": "stream",
          "name": "stdout",
          "text": [
            "Collecting vaderSentiment\n",
            "  Downloading vaderSentiment-3.3.2-py2.py3-none-any.whl (125 kB)\n",
            "\u001b[?25l\r\u001b[K     |██▋                             | 10 kB 26.9 MB/s eta 0:00:01\r\u001b[K     |█████▏                          | 20 kB 28.3 MB/s eta 0:00:01\r\u001b[K     |███████▉                        | 30 kB 18.3 MB/s eta 0:00:01\r\u001b[K     |██████████▍                     | 40 kB 16.4 MB/s eta 0:00:01\r\u001b[K     |█████████████                   | 51 kB 8.7 MB/s eta 0:00:01\r\u001b[K     |███████████████▋                | 61 kB 8.4 MB/s eta 0:00:01\r\u001b[K     |██████████████████▏             | 71 kB 8.8 MB/s eta 0:00:01\r\u001b[K     |████████████████████▉           | 81 kB 9.7 MB/s eta 0:00:01\r\u001b[K     |███████████████████████▍        | 92 kB 10.3 MB/s eta 0:00:01\r\u001b[K     |██████████████████████████      | 102 kB 8.4 MB/s eta 0:00:01\r\u001b[K     |████████████████████████████▋   | 112 kB 8.4 MB/s eta 0:00:01\r\u001b[K     |███████████████████████████████▏| 122 kB 8.4 MB/s eta 0:00:01\r\u001b[K     |████████████████████████████████| 125 kB 8.4 MB/s \n",
            "\u001b[?25hRequirement already satisfied: requests in /usr/local/lib/python3.7/dist-packages (from vaderSentiment) (2.23.0)\n",
            "Requirement already satisfied: certifi>=2017.4.17 in /usr/local/lib/python3.7/dist-packages (from requests->vaderSentiment) (2021.5.30)\n",
            "Requirement already satisfied: urllib3!=1.25.0,!=1.25.1,<1.26,>=1.21.1 in /usr/local/lib/python3.7/dist-packages (from requests->vaderSentiment) (1.24.3)\n",
            "Requirement already satisfied: chardet<4,>=3.0.2 in /usr/local/lib/python3.7/dist-packages (from requests->vaderSentiment) (3.0.4)\n",
            "Requirement already satisfied: idna<3,>=2.5 in /usr/local/lib/python3.7/dist-packages (from requests->vaderSentiment) (2.10)\n",
            "Installing collected packages: vaderSentiment\n",
            "Successfully installed vaderSentiment-3.3.2\n"
          ]
        }
      ]
    },
    {
      "cell_type": "code",
      "metadata": {
        "colab": {
          "base_uri": "https://localhost:8080/"
        },
        "id": "ViNWOz4NtB4E",
        "outputId": "11ed2e51-4fee-4644-c610-934cba5f115f"
      },
      "source": [
        "!pip install pandas"
      ],
      "execution_count": null,
      "outputs": [
        {
          "output_type": "stream",
          "name": "stdout",
          "text": [
            "Requirement already satisfied: pandas in /usr/local/lib/python3.7/dist-packages (1.1.5)\n",
            "Requirement already satisfied: pytz>=2017.2 in /usr/local/lib/python3.7/dist-packages (from pandas) (2018.9)\n",
            "Requirement already satisfied: python-dateutil>=2.7.3 in /usr/local/lib/python3.7/dist-packages (from pandas) (2.8.2)\n",
            "Requirement already satisfied: numpy>=1.15.4 in /usr/local/lib/python3.7/dist-packages (from pandas) (1.19.5)\n",
            "Requirement already satisfied: six>=1.5 in /usr/local/lib/python3.7/dist-packages (from python-dateutil>=2.7.3->pandas) (1.15.0)\n"
          ]
        }
      ]
    },
    {
      "cell_type": "code",
      "metadata": {
        "colab": {
          "base_uri": "https://localhost:8080/"
        },
        "id": "cSoxXqybtEWi",
        "outputId": "7dc6fe14-2016-4642-8582-f63f7a115b8e"
      },
      "source": [
        "!pip install nltk"
      ],
      "execution_count": null,
      "outputs": [
        {
          "output_type": "stream",
          "name": "stdout",
          "text": [
            "Requirement already satisfied: nltk in /usr/local/lib/python3.7/dist-packages (3.2.5)\n",
            "Requirement already satisfied: six in /usr/local/lib/python3.7/dist-packages (from nltk) (1.15.0)\n"
          ]
        }
      ]
    },
    {
      "cell_type": "code",
      "metadata": {
        "colab": {
          "base_uri": "https://localhost:8080/"
        },
        "id": "XgyjTTXEtGbU",
        "outputId": "6ab1217f-025a-4a7d-a376-e3663a1f9ab9"
      },
      "source": [
        "import pandas as pd\n",
        "from nltk.sentiment.vader import SentimentIntensityAnalyzer\n",
        "import nltk"
      ],
      "execution_count": null,
      "outputs": [
        {
          "output_type": "stream",
          "name": "stderr",
          "text": [
            "/usr/local/lib/python3.7/dist-packages/nltk/twitter/__init__.py:20: UserWarning: The twython library has not been installed. Some functionality from the twitter package will not be available.\n",
            "  warnings.warn(\"The twython library has not been installed. \"\n"
          ]
        }
      ]
    },
    {
      "cell_type": "markdown",
      "metadata": {
        "id": "C0wI3U50tHfw"
      },
      "source": [
        "**2. Import Data**"
      ]
    },
    {
      "cell_type": "code",
      "metadata": {
        "colab": {
          "base_uri": "https://localhost:8080/"
        },
        "id": "cy0u8IpGtK85",
        "outputId": "09c3482b-f09d-478a-aa82-1493a4a9a429"
      },
      "source": [
        "# Import Data from Google Drive\n",
        "from google.colab import drive\n",
        "drive.mount('/content/drive')"
      ],
      "execution_count": null,
      "outputs": [
        {
          "output_type": "stream",
          "name": "stdout",
          "text": [
            "Mounted at /content/drive\n"
          ]
        }
      ]
    },
    {
      "cell_type": "code",
      "metadata": {
        "id": "bCfWfnZPtNXD"
      },
      "source": [
        "df = pd.read_csv(\"/content/drive/MyDrive/Colab Notebooks/Review Tanihub.csv\")"
      ],
      "execution_count": null,
      "outputs": []
    },
    {
      "cell_type": "code",
      "metadata": {
        "colab": {
          "base_uri": "https://localhost:8080/",
          "height": 202
        },
        "id": "iDXexVl0tPjS",
        "outputId": "32a6d746-631f-4ef8-fe04-f8027b271f6f"
      },
      "source": [
        "df.head(5)"
      ],
      "execution_count": null,
      "outputs": [
        {
          "output_type": "execute_result",
          "data": {
            "text/html": [
              "<div>\n",
              "<style scoped>\n",
              "    .dataframe tbody tr th:only-of-type {\n",
              "        vertical-align: middle;\n",
              "    }\n",
              "\n",
              "    .dataframe tbody tr th {\n",
              "        vertical-align: top;\n",
              "    }\n",
              "\n",
              "    .dataframe thead th {\n",
              "        text-align: right;\n",
              "    }\n",
              "</style>\n",
              "<table border=\"1\" class=\"dataframe\">\n",
              "  <thead>\n",
              "    <tr style=\"text-align: right;\">\n",
              "      <th></th>\n",
              "      <th>Date</th>\n",
              "      <th>User Account</th>\n",
              "      <th>Scores</th>\n",
              "      <th>Review</th>\n",
              "    </tr>\n",
              "  </thead>\n",
              "  <tbody>\n",
              "    <tr>\n",
              "      <th>0</th>\n",
              "      <td>21/05/2021</td>\n",
              "      <td>AHA! KLASTULISTIWA</td>\n",
              "      <td>1</td>\n",
              "      <td>Slow. untracked. Customer service slow respons...</td>\n",
              "    </tr>\n",
              "    <tr>\n",
              "      <th>1</th>\n",
              "      <td>20/05/2021</td>\n",
              "      <td>urip sugiarti</td>\n",
              "      <td>5</td>\n",
              "      <td>good essentially first order and the chili is ...</td>\n",
              "    </tr>\n",
              "    <tr>\n",
              "      <th>2</th>\n",
              "      <td>20/05/2021</td>\n",
              "      <td>amirah makarim</td>\n",
              "      <td>5</td>\n",
              "      <td>Good quality and good price</td>\n",
              "    </tr>\n",
              "    <tr>\n",
              "      <th>3</th>\n",
              "      <td>18/05/2021</td>\n",
              "      <td>Aldy Arsyad</td>\n",
              "      <td>5</td>\n",
              "      <td>Cool can shopping anytime and anywhere ... Pro...</td>\n",
              "    </tr>\n",
              "    <tr>\n",
              "      <th>4</th>\n",
              "      <td>16/05/2021</td>\n",
              "      <td>Iin Rosita</td>\n",
              "      <td>5</td>\n",
              "      <td>Very recomended !!!!</td>\n",
              "    </tr>\n",
              "  </tbody>\n",
              "</table>\n",
              "</div>"
            ],
            "text/plain": [
              "         Date  ...                                             Review\n",
              "0  21/05/2021  ...  Slow. untracked. Customer service slow respons...\n",
              "1  20/05/2021  ...  good essentially first order and the chili is ...\n",
              "2  20/05/2021  ...                        Good quality and good price\n",
              "3  18/05/2021  ...  Cool can shopping anytime and anywhere ... Pro...\n",
              "4  16/05/2021  ...                               Very recomended !!!!\n",
              "\n",
              "[5 rows x 4 columns]"
            ]
          },
          "metadata": {},
          "execution_count": 7
        }
      ]
    },
    {
      "cell_type": "code",
      "metadata": {
        "colab": {
          "base_uri": "https://localhost:8080/"
        },
        "id": "eSTw6DV5tR4f",
        "outputId": "cc91279e-6736-47c3-b36a-957a35596feb"
      },
      "source": [
        "df.shape"
      ],
      "execution_count": null,
      "outputs": [
        {
          "output_type": "execute_result",
          "data": {
            "text/plain": [
              "(1065, 4)"
            ]
          },
          "metadata": {},
          "execution_count": 8
        }
      ]
    },
    {
      "cell_type": "markdown",
      "metadata": {
        "id": "vE2r7UFFtXf_"
      },
      "source": [
        "**3. Preprocessing**"
      ]
    },
    {
      "cell_type": "markdown",
      "metadata": {
        "id": "kT-GpHs1tZJ5"
      },
      "source": [
        "**- Remove Duplicate**"
      ]
    },
    {
      "cell_type": "code",
      "metadata": {
        "colab": {
          "base_uri": "https://localhost:8080/"
        },
        "id": "489EzafrtdQm",
        "outputId": "05476b05-6a14-4d82-c10c-9d54e173206e"
      },
      "source": [
        "# Remove Duplicate Row from Table\n",
        "df = df.drop_duplicates()\n",
        "df.shape"
      ],
      "execution_count": null,
      "outputs": [
        {
          "output_type": "execute_result",
          "data": {
            "text/plain": [
              "(1065, 4)"
            ]
          },
          "metadata": {},
          "execution_count": 9
        }
      ]
    },
    {
      "cell_type": "markdown",
      "metadata": {
        "id": "NTstdYkPthUq"
      },
      "source": [
        "**- LowerCase**"
      ]
    },
    {
      "cell_type": "code",
      "metadata": {
        "id": "XkBOB2cKtilD"
      },
      "source": [
        "# Merubah keseluruhan kalimat pada kolom yang dipilih menjadi huruf kecil\n",
        "df['Review'] = df['Review'].str.lower()"
      ],
      "execution_count": null,
      "outputs": []
    },
    {
      "cell_type": "code",
      "metadata": {
        "colab": {
          "base_uri": "https://localhost:8080/"
        },
        "id": "Dro_wL9dtkji",
        "outputId": "8044ace1-9985-4615-91f2-d995e51ee263"
      },
      "source": [
        "df.Review"
      ],
      "execution_count": null,
      "outputs": [
        {
          "output_type": "execute_result",
          "data": {
            "text/plain": [
              "0       slow. untracked. customer service slow respons...\n",
              "1       good essentially first order and the chili is ...\n",
              "2                             good quality and good price\n",
              "3       cool can shopping anytime and anywhere ... pro...\n",
              "4                                    very recomended !!!!\n",
              "                              ...                        \n",
              "1060    this application may need improvement here and...\n",
              "1061    the shopping process easy and the quality of g...\n",
              "1062                     let's support our local farmers!\n",
              "1063    the shopping process easy, the navigation is a...\n",
              "1064                                              awesome\n",
              "Name: Review, Length: 1065, dtype: object"
            ]
          },
          "metadata": {},
          "execution_count": 11
        }
      ]
    },
    {
      "cell_type": "markdown",
      "metadata": {
        "id": "EKvle2wGtnpp"
      },
      "source": [
        "**- Remove Symbol**"
      ]
    },
    {
      "cell_type": "code",
      "metadata": {
        "id": "asIXENPNttJ9"
      },
      "source": [
        "# Menghilangkan simbol pada kolom tertentu\n",
        "df['Review'] = df['Review'].str.replace('@[^\\s]+','', case=False)"
      ],
      "execution_count": null,
      "outputs": []
    },
    {
      "cell_type": "code",
      "metadata": {
        "colab": {
          "base_uri": "https://localhost:8080/"
        },
        "id": "8NYmNxT6t0uC",
        "outputId": "4c9d40ba-cac0-438b-a4f7-579ecf20e426"
      },
      "source": [
        "df.Review"
      ],
      "execution_count": null,
      "outputs": [
        {
          "output_type": "execute_result",
          "data": {
            "text/plain": [
              "0       slow. untracked. customer service slow respons...\n",
              "1       good essentially first order and the chili is ...\n",
              "2                             good quality and good price\n",
              "3       cool can shopping anytime and anywhere ... pro...\n",
              "4                                    very recomended !!!!\n",
              "                              ...                        \n",
              "1060    this application may need improvement here and...\n",
              "1061    the shopping process easy and the quality of g...\n",
              "1062                     let's support our local farmers!\n",
              "1063    the shopping process easy, the navigation is a...\n",
              "1064                                              awesome\n",
              "Name: Review, Length: 1065, dtype: object"
            ]
          },
          "metadata": {},
          "execution_count": 13
        }
      ]
    },
    {
      "cell_type": "markdown",
      "metadata": {
        "id": "mAgGktftt3Ln"
      },
      "source": [
        "**- Tokenize**"
      ]
    },
    {
      "cell_type": "code",
      "metadata": {
        "colab": {
          "base_uri": "https://localhost:8080/"
        },
        "id": "oHt1Gsn-t6DX",
        "outputId": "1b245853-12f4-4cac-feb6-e85f2e0227ff"
      },
      "source": [
        "nltk.download('punkt')"
      ],
      "execution_count": null,
      "outputs": [
        {
          "output_type": "stream",
          "name": "stdout",
          "text": [
            "[nltk_data] Downloading package punkt to /root/nltk_data...\n",
            "[nltk_data]   Unzipping tokenizers/punkt.zip.\n"
          ]
        },
        {
          "output_type": "execute_result",
          "data": {
            "text/plain": [
              "True"
            ]
          },
          "metadata": {},
          "execution_count": 12
        }
      ]
    },
    {
      "cell_type": "code",
      "metadata": {
        "colab": {
          "base_uri": "https://localhost:8080/"
        },
        "id": "p0XB4g2pt9WX",
        "outputId": "48a1946d-9736-48ec-995c-65741267edad"
      },
      "source": [
        "#Testing\n",
        "example_text = df.iloc[0]\n",
        "print(nltk.word_tokenize(example_text['Review']))"
      ],
      "execution_count": null,
      "outputs": [
        {
          "output_type": "stream",
          "name": "stdout",
          "text": [
            "['slow', '.', 'untracked', '.', 'customer', 'service', 'slow', 'response', '.', 'it', \"'s\", 'better', 'to', 'buy', 'through', 'online', 'motorcycle', 'bead', 'area', '.', 'the', 'first', 'and', 'last', 'time', '.']\n"
          ]
        }
      ]
    },
    {
      "cell_type": "code",
      "metadata": {
        "id": "yVz11_7Ot_SC"
      },
      "source": [
        "def identify_tokens(row):\n",
        "    Review = row['Review']\n",
        "    tokens = nltk.word_tokenize(Review)\n",
        "    # taken only words (not punctuation)\n",
        "    token_words = [w for w in tokens if w.isalpha()]\n",
        "    return token_words\n",
        "\n",
        "df['Review'] = df.apply(identify_tokens, axis=1)"
      ],
      "execution_count": null,
      "outputs": []
    },
    {
      "cell_type": "code",
      "metadata": {
        "colab": {
          "base_uri": "https://localhost:8080/"
        },
        "id": "KFEJLQ0wuBSh",
        "outputId": "0b3a7c4b-8587-48f5-a372-201eb34e1e11"
      },
      "source": [
        "df.Review"
      ],
      "execution_count": null,
      "outputs": [
        {
          "output_type": "execute_result",
          "data": {
            "text/plain": [
              "0       [slow, untracked, customer, service, slow, res...\n",
              "1       [good, essentially, first, order, and, the, ch...\n",
              "2                       [good, quality, and, good, price]\n",
              "3       [cool, can, shopping, anytime, and, anywhere, ...\n",
              "4                                      [very, recomended]\n",
              "                              ...                        \n",
              "1060    [this, application, may, need, improvement, he...\n",
              "1061    [the, shopping, process, easy, and, the, quali...\n",
              "1062                  [let, support, our, local, farmers]\n",
              "1063    [the, shopping, process, easy, the, navigation...\n",
              "1064                                            [awesome]\n",
              "Name: Review, Length: 1065, dtype: object"
            ]
          },
          "metadata": {},
          "execution_count": 17
        }
      ]
    },
    {
      "cell_type": "code",
      "metadata": {
        "colab": {
          "base_uri": "https://localhost:8080/",
          "height": 414
        },
        "id": "Qeskfd_GuEml",
        "outputId": "f1604ce5-b647-40e5-8b69-894249c0c3e9"
      },
      "source": [
        "df"
      ],
      "execution_count": null,
      "outputs": [
        {
          "output_type": "execute_result",
          "data": {
            "text/html": [
              "<div>\n",
              "<style scoped>\n",
              "    .dataframe tbody tr th:only-of-type {\n",
              "        vertical-align: middle;\n",
              "    }\n",
              "\n",
              "    .dataframe tbody tr th {\n",
              "        vertical-align: top;\n",
              "    }\n",
              "\n",
              "    .dataframe thead th {\n",
              "        text-align: right;\n",
              "    }\n",
              "</style>\n",
              "<table border=\"1\" class=\"dataframe\">\n",
              "  <thead>\n",
              "    <tr style=\"text-align: right;\">\n",
              "      <th></th>\n",
              "      <th>Date</th>\n",
              "      <th>User Account</th>\n",
              "      <th>Scores</th>\n",
              "      <th>Review</th>\n",
              "    </tr>\n",
              "  </thead>\n",
              "  <tbody>\n",
              "    <tr>\n",
              "      <th>0</th>\n",
              "      <td>21/05/2021</td>\n",
              "      <td>AHA! KLASTULISTIWA</td>\n",
              "      <td>1</td>\n",
              "      <td>[slow, untracked, customer, service, slow, res...</td>\n",
              "    </tr>\n",
              "    <tr>\n",
              "      <th>1</th>\n",
              "      <td>20/05/2021</td>\n",
              "      <td>urip sugiarti</td>\n",
              "      <td>5</td>\n",
              "      <td>[good, essentially, first, order, and, the, ch...</td>\n",
              "    </tr>\n",
              "    <tr>\n",
              "      <th>2</th>\n",
              "      <td>20/05/2021</td>\n",
              "      <td>amirah makarim</td>\n",
              "      <td>5</td>\n",
              "      <td>[good, quality, and, good, price]</td>\n",
              "    </tr>\n",
              "    <tr>\n",
              "      <th>3</th>\n",
              "      <td>18/05/2021</td>\n",
              "      <td>Aldy Arsyad</td>\n",
              "      <td>5</td>\n",
              "      <td>[cool, can, shopping, anytime, and, anywhere, ...</td>\n",
              "    </tr>\n",
              "    <tr>\n",
              "      <th>4</th>\n",
              "      <td>16/05/2021</td>\n",
              "      <td>Iin Rosita</td>\n",
              "      <td>5</td>\n",
              "      <td>[very, recomended]</td>\n",
              "    </tr>\n",
              "    <tr>\n",
              "      <th>...</th>\n",
              "      <td>...</td>\n",
              "      <td>...</td>\n",
              "      <td>...</td>\n",
              "      <td>...</td>\n",
              "    </tr>\n",
              "    <tr>\n",
              "      <th>1060</th>\n",
              "      <td>7/12/2018</td>\n",
              "      <td>A Google user</td>\n",
              "      <td>5</td>\n",
              "      <td>[this, application, may, need, improvement, he...</td>\n",
              "    </tr>\n",
              "    <tr>\n",
              "      <th>1061</th>\n",
              "      <td>7/12/2018</td>\n",
              "      <td>helpy adi winoto</td>\n",
              "      <td>5</td>\n",
              "      <td>[the, shopping, process, easy, and, the, quali...</td>\n",
              "    </tr>\n",
              "    <tr>\n",
              "      <th>1062</th>\n",
              "      <td>6/12/2018</td>\n",
              "      <td>William</td>\n",
              "      <td>5</td>\n",
              "      <td>[let, support, our, local, farmers]</td>\n",
              "    </tr>\n",
              "    <tr>\n",
              "      <th>1063</th>\n",
              "      <td>6/12/2018</td>\n",
              "      <td>Edy Pramono</td>\n",
              "      <td>5</td>\n",
              "      <td>[the, shopping, process, easy, the, navigation...</td>\n",
              "    </tr>\n",
              "    <tr>\n",
              "      <th>1064</th>\n",
              "      <td>6/12/2018</td>\n",
              "      <td>Ivan Sustiawan</td>\n",
              "      <td>5</td>\n",
              "      <td>[awesome]</td>\n",
              "    </tr>\n",
              "  </tbody>\n",
              "</table>\n",
              "<p>1065 rows × 4 columns</p>\n",
              "</div>"
            ],
            "text/plain": [
              "            Date  ...                                             Review\n",
              "0     21/05/2021  ...  [slow, untracked, customer, service, slow, res...\n",
              "1     20/05/2021  ...  [good, essentially, first, order, and, the, ch...\n",
              "2     20/05/2021  ...                  [good, quality, and, good, price]\n",
              "3     18/05/2021  ...  [cool, can, shopping, anytime, and, anywhere, ...\n",
              "4     16/05/2021  ...                                 [very, recomended]\n",
              "...          ...  ...                                                ...\n",
              "1060   7/12/2018  ...  [this, application, may, need, improvement, he...\n",
              "1061   7/12/2018  ...  [the, shopping, process, easy, and, the, quali...\n",
              "1062   6/12/2018  ...                [let, support, our, local, farmers]\n",
              "1063   6/12/2018  ...  [the, shopping, process, easy, the, navigation...\n",
              "1064   6/12/2018  ...                                          [awesome]\n",
              "\n",
              "[1065 rows x 4 columns]"
            ]
          },
          "metadata": {},
          "execution_count": 15
        }
      ]
    },
    {
      "cell_type": "code",
      "metadata": {
        "id": "p7ARuN9GuGGY"
      },
      "source": [
        "df.to_csv('/content/drive/MyDrive/Colab Notebooks/Tokenisasi Review.csv')"
      ],
      "execution_count": null,
      "outputs": []
    },
    {
      "cell_type": "markdown",
      "metadata": {
        "id": "9Sx0acr7uJA0"
      },
      "source": [
        "**- Stopword**"
      ]
    },
    {
      "cell_type": "code",
      "metadata": {
        "id": "caNHfCuIuNeY"
      },
      "source": [
        "#import stopword\n",
        "from nltk.corpus import stopwords\n",
        "from nltk.tokenize import sent_tokenize, word_tokenize"
      ],
      "execution_count": null,
      "outputs": []
    },
    {
      "cell_type": "code",
      "metadata": {
        "colab": {
          "base_uri": "https://localhost:8080/"
        },
        "id": "DCnUlXUEuQhp",
        "outputId": "8b8807b9-4303-44bc-e03a-cf809f60bcd9"
      },
      "source": [
        "nltk.download('stopwords')\n",
        "from nltk.corpus import stopwords\n",
        "stops = set(stopwords.words(\"english\"))"
      ],
      "execution_count": null,
      "outputs": [
        {
          "output_type": "stream",
          "name": "stdout",
          "text": [
            "[nltk_data] Downloading package stopwords to /root/nltk_data...\n",
            "[nltk_data]   Unzipping corpora/stopwords.zip.\n"
          ]
        }
      ]
    },
    {
      "cell_type": "code",
      "metadata": {
        "id": "Umj2nly5uSAj"
      },
      "source": [
        "def remove_stops(row):\n",
        "  Review = row['Review']\n",
        "  meaningful_words = [word for word in Review if not word in stops]\n",
        "  return (meaningful_words)\n"
      ],
      "execution_count": null,
      "outputs": []
    },
    {
      "cell_type": "code",
      "metadata": {
        "id": "knG8bG1buT1H"
      },
      "source": [
        "df['Review'] = df.apply(remove_stops, axis=1)"
      ],
      "execution_count": null,
      "outputs": []
    },
    {
      "cell_type": "code",
      "metadata": {
        "id": "E4jF9262uVmv"
      },
      "source": [
        "#joining text\n",
        "df['Review'] = df['Review'].str.join(\" \")"
      ],
      "execution_count": null,
      "outputs": []
    },
    {
      "cell_type": "code",
      "metadata": {
        "colab": {
          "base_uri": "https://localhost:8080/"
        },
        "id": "VMQeIMPcuXQy",
        "outputId": "e2153ad9-ae33-4453-9319-8dd41dddf3ec"
      },
      "source": [
        "print(df['Review'][0])"
      ],
      "execution_count": null,
      "outputs": [
        {
          "output_type": "stream",
          "name": "stdout",
          "text": [
            "slow untracked customer service slow response better buy online motorcycle bead area first last time\n"
          ]
        }
      ]
    },
    {
      "cell_type": "code",
      "metadata": {
        "id": "pyxxR6DFuoRZ"
      },
      "source": [
        "df.to_csv('/content/drive/MyDrive/Colab Notebooks/Stopword Review(3).csv')"
      ],
      "execution_count": null,
      "outputs": []
    },
    {
      "cell_type": "markdown",
      "metadata": {
        "id": "7dBOAIakusag"
      },
      "source": [
        "**4. MACHINE LEARNING**"
      ]
    },
    {
      "cell_type": "code",
      "metadata": {
        "colab": {
          "base_uri": "https://localhost:8080/"
        },
        "id": "CzQCCB3KxDMU",
        "outputId": "176451b3-ef90-40eb-fba7-e43c860b6055"
      },
      "source": [
        "from google.colab import drive\n",
        "drive.mount('/content/drive')"
      ],
      "execution_count": null,
      "outputs": [
        {
          "output_type": "stream",
          "name": "stdout",
          "text": [
            "Drive already mounted at /content/drive; to attempt to forcibly remount, call drive.mount(\"/content/drive\", force_remount=True).\n"
          ]
        }
      ]
    },
    {
      "cell_type": "code",
      "metadata": {
        "id": "rGPA-fIJxLp_"
      },
      "source": [
        "df = pd.read_csv(\"/content/drive/MyDrive/Colab Notebooks/Full Data Set.csv\")"
      ],
      "execution_count": null,
      "outputs": []
    },
    {
      "cell_type": "code",
      "metadata": {
        "colab": {
          "base_uri": "https://localhost:8080/",
          "height": 605
        },
        "id": "Il_yVKXXxO9Q",
        "outputId": "3255a1ee-6595-4097-91a1-bbfc12879f0b"
      },
      "source": [
        "df.head(10)"
      ],
      "execution_count": null,
      "outputs": [
        {
          "output_type": "execute_result",
          "data": {
            "text/html": [
              "<div>\n",
              "<style scoped>\n",
              "    .dataframe tbody tr th:only-of-type {\n",
              "        vertical-align: middle;\n",
              "    }\n",
              "\n",
              "    .dataframe tbody tr th {\n",
              "        vertical-align: top;\n",
              "    }\n",
              "\n",
              "    .dataframe thead th {\n",
              "        text-align: right;\n",
              "    }\n",
              "</style>\n",
              "<table border=\"1\" class=\"dataframe\">\n",
              "  <thead>\n",
              "    <tr style=\"text-align: right;\">\n",
              "      <th></th>\n",
              "      <th>Unnamed: 0</th>\n",
              "      <th>Date</th>\n",
              "      <th>User Account</th>\n",
              "      <th>Scores</th>\n",
              "      <th>Review</th>\n",
              "      <th>Label</th>\n",
              "      <th>Aspect</th>\n",
              "    </tr>\n",
              "  </thead>\n",
              "  <tbody>\n",
              "    <tr>\n",
              "      <th>0</th>\n",
              "      <td>0</td>\n",
              "      <td>21/05/2021</td>\n",
              "      <td>AHA! KLASTULISTIWA</td>\n",
              "      <td>1</td>\n",
              "      <td>slow untracked customer service slow response ...</td>\n",
              "      <td>0.0</td>\n",
              "      <td>SERVICE</td>\n",
              "    </tr>\n",
              "    <tr>\n",
              "      <th>1</th>\n",
              "      <td>1</td>\n",
              "      <td>20/05/2021</td>\n",
              "      <td>urip sugiarti</td>\n",
              "      <td>5</td>\n",
              "      <td>good essentially first order chili fresh</td>\n",
              "      <td>1.0</td>\n",
              "      <td>SERVICE</td>\n",
              "    </tr>\n",
              "    <tr>\n",
              "      <th>2</th>\n",
              "      <td>2</td>\n",
              "      <td>20/05/2021</td>\n",
              "      <td>amirah makarim</td>\n",
              "      <td>5</td>\n",
              "      <td>good quality good price</td>\n",
              "      <td>1.0</td>\n",
              "      <td>SERVICE</td>\n",
              "    </tr>\n",
              "    <tr>\n",
              "      <th>3</th>\n",
              "      <td>3</td>\n",
              "      <td>18/05/2021</td>\n",
              "      <td>Aldy Arsyad</td>\n",
              "      <td>5</td>\n",
              "      <td>cool shopping anytime anywhere product fresh t...</td>\n",
              "      <td>1.0</td>\n",
              "      <td>USEFULLNESS</td>\n",
              "    </tr>\n",
              "    <tr>\n",
              "      <th>4</th>\n",
              "      <td>4</td>\n",
              "      <td>16/05/2021</td>\n",
              "      <td>Iin Rosita</td>\n",
              "      <td>5</td>\n",
              "      <td>recomended</td>\n",
              "      <td>1.0</td>\n",
              "      <td>USEFULLNESS</td>\n",
              "    </tr>\n",
              "    <tr>\n",
              "      <th>5</th>\n",
              "      <td>5</td>\n",
              "      <td>16/05/2021</td>\n",
              "      <td>Hermayanti</td>\n",
              "      <td>5</td>\n",
              "      <td>good good</td>\n",
              "      <td>1.0</td>\n",
              "      <td>USEFULLNESS</td>\n",
              "    </tr>\n",
              "    <tr>\n",
              "      <th>6</th>\n",
              "      <td>6</td>\n",
              "      <td>15/05/2021</td>\n",
              "      <td>Maria Dora Rosa</td>\n",
              "      <td>5</td>\n",
              "      <td>satisfied buy fruit good quality delivery also...</td>\n",
              "      <td>1.0</td>\n",
              "      <td>SERVICE</td>\n",
              "    </tr>\n",
              "    <tr>\n",
              "      <th>7</th>\n",
              "      <td>7</td>\n",
              "      <td>11/5/2021</td>\n",
              "      <td>Afdhal Kurnia Surakhman</td>\n",
              "      <td>4</td>\n",
              "      <td>spending time conclusions recomended shopping ...</td>\n",
              "      <td>1.0</td>\n",
              "      <td>SERVICE</td>\n",
              "    </tr>\n",
              "    <tr>\n",
              "      <th>8</th>\n",
              "      <td>8</td>\n",
              "      <td>10/5/2021</td>\n",
              "      <td>SMART Pusdiklat</td>\n",
              "      <td>5</td>\n",
              "      <td>lightweight application navigation clear easy ...</td>\n",
              "      <td>1.0</td>\n",
              "      <td>SYSTEM</td>\n",
              "    </tr>\n",
              "    <tr>\n",
              "      <th>9</th>\n",
              "      <td>9</td>\n",
              "      <td>10/5/2021</td>\n",
              "      <td>Jenny Setiawan</td>\n",
              "      <td>5</td>\n",
              "      <td>best quality</td>\n",
              "      <td>1.0</td>\n",
              "      <td>SERVICE</td>\n",
              "    </tr>\n",
              "  </tbody>\n",
              "</table>\n",
              "</div>"
            ],
            "text/plain": [
              "   Unnamed: 0        Date  ... Label       Aspect\n",
              "0           0  21/05/2021  ...   0.0      SERVICE\n",
              "1           1  20/05/2021  ...   1.0      SERVICE\n",
              "2           2  20/05/2021  ...   1.0      SERVICE\n",
              "3           3  18/05/2021  ...   1.0  USEFULLNESS\n",
              "4           4  16/05/2021  ...   1.0  USEFULLNESS\n",
              "5           5  16/05/2021  ...   1.0  USEFULLNESS\n",
              "6           6  15/05/2021  ...   1.0      SERVICE\n",
              "7           7   11/5/2021  ...   1.0      SERVICE\n",
              "8           8   10/5/2021  ...   1.0       SYSTEM\n",
              "9           9   10/5/2021  ...   1.0      SERVICE\n",
              "\n",
              "[10 rows x 7 columns]"
            ]
          },
          "metadata": {},
          "execution_count": 26
        }
      ]
    },
    {
      "cell_type": "markdown",
      "metadata": {
        "id": "r6BfVrJnuu6c"
      },
      "source": [
        "**- Resampling**"
      ]
    },
    {
      "cell_type": "code",
      "metadata": {
        "colab": {
          "base_uri": "https://localhost:8080/"
        },
        "id": "Qrg_wjvouyb2",
        "outputId": "c32f8241-597f-4e83-f16d-78a0f1e094bd"
      },
      "source": [
        "df['Label'].value_counts()"
      ],
      "execution_count": null,
      "outputs": [
        {
          "output_type": "execute_result",
          "data": {
            "text/plain": [
              "1.0    723\n",
              "0.0    341\n",
              "Name: Label, dtype: int64"
            ]
          },
          "metadata": {},
          "execution_count": 27
        }
      ]
    },
    {
      "cell_type": "code",
      "metadata": {
        "colab": {
          "base_uri": "https://localhost:8080/"
        },
        "id": "g_YZVZzku0yY",
        "outputId": "a83fc9e8-3e5d-4bb1-e602-63569b52c4e6"
      },
      "source": [
        "s_1 = df[df['Label']==0].sample(500,replace=True)\n",
        "s_2 = df[df['Label']==1].sample(500,replace=True)\n",
        "df = pd.concat([s_1, s_2])\n",
        "\n",
        "print(df.shape)\n",
        "print(df['Label'].value_counts(normalize=True))"
      ],
      "execution_count": null,
      "outputs": [
        {
          "output_type": "stream",
          "name": "stdout",
          "text": [
            "(1000, 7)\n",
            "1.0    0.5\n",
            "0.0    0.5\n",
            "Name: Label, dtype: float64\n"
          ]
        }
      ]
    },
    {
      "cell_type": "markdown",
      "metadata": {
        "id": "U1dQ33e4u6vr"
      },
      "source": [
        "**- Sk.Learn SVM**"
      ]
    },
    {
      "cell_type": "code",
      "metadata": {
        "id": "UIgMv7ktvBJy"
      },
      "source": [
        "from sklearn.model_selection import train_test_split\n",
        "\n",
        "x_train, x_test, y_train, y_test = train_test_split(df['Review'], df['Label'],\n",
        "                                                    test_size=0.3, stratify=df['Label'], random_state=0)"
      ],
      "execution_count": null,
      "outputs": []
    },
    {
      "cell_type": "code",
      "metadata": {
        "id": "2fNfWPxAvFj6",
        "colab": {
          "base_uri": "https://localhost:8080/"
        },
        "outputId": "96e20a86-f857-4af8-820c-df822bd126be"
      },
      "source": [
        "from sklearn.feature_extraction.text import TfidfVectorizer\n",
        "\n",
        "corpus = ['Review']\n",
        "\n",
        "vectorizer = TfidfVectorizer()\n",
        "X = vectorizer.fit_transform(corpus) \n",
        "X.toarray()"
      ],
      "execution_count": null,
      "outputs": [
        {
          "output_type": "execute_result",
          "data": {
            "text/plain": [
              "array([[1.]])"
            ]
          },
          "metadata": {},
          "execution_count": 33
        }
      ]
    },
    {
      "cell_type": "code",
      "metadata": {
        "colab": {
          "base_uri": "https://localhost:8080/"
        },
        "id": "IvLEYyJyvIek",
        "outputId": "9b4fc51d-6b4b-4ffc-83d8-f61bf9b4c7cb"
      },
      "source": [
        "# implementasi pada dokumen\n",
        "x_train = vectorizer.fit_transform(x_train)\n",
        "x_test = vectorizer.transform(x_test)\n",
        "\n",
        "print(x_train.shape)\n",
        "print(x_test.shape)"
      ],
      "execution_count": null,
      "outputs": [
        {
          "output_type": "stream",
          "name": "stdout",
          "text": [
            "(700, 1685)\n",
            "(300, 1685)\n"
          ]
        }
      ]
    },
    {
      "cell_type": "code",
      "metadata": {
        "id": "CE3rYuaRvKQX"
      },
      "source": [
        "def preprocess_data(data):\n",
        "    # cleansing data\n",
        "    data = cleansing(data)\n",
        "    \n",
        "    # hapus stopwords\n",
        "    factory = StopWordRemoverFactory()\n",
        "    stopword = factory.create_stop_word_remover()\n",
        "    data = stopword.remove(data)\n",
        "    \n",
        "    # stemming\n",
        "    factory = StemmerFactory()\n",
        "    stemmer = factory.create_stemmer()\n",
        "    data = stemmer.stem(data)\n",
        "    \n",
        "    # count vectorizer\n",
        "    data = vectorizer.transform([data])\n",
        "    \n",
        "    return data"
      ],
      "execution_count": null,
      "outputs": []
    },
    {
      "cell_type": "code",
      "metadata": {
        "id": "IMCA9lwDvNIz"
      },
      "source": [
        "from sklearn import svm\n",
        "from sklearn.model_selection import cross_val_score\n",
        "\n",
        "clf = svm.SVC(kernel=\"linear\")\n",
        "\n",
        "#cross_val_score(clf, x_train, y_train, cv=70)"
      ],
      "execution_count": null,
      "outputs": []
    },
    {
      "cell_type": "code",
      "metadata": {
        "id": "LtrM6FQzvO_s"
      },
      "source": [
        "# lakukan prediksi pada data test\n",
        "clf.fit(x_train,y_train)\n",
        "predict = clf.predict(x_test)"
      ],
      "execution_count": null,
      "outputs": []
    },
    {
      "cell_type": "code",
      "metadata": {
        "id": "HU4IoYV8vQxP"
      },
      "source": [
        "# import library evaluation\n",
        "from sklearn.metrics import f1_score, recall_score, precision_score, confusion_matrix, accuracy_score\n",
        "from sklearn.metrics import confusion_matrix, classification_report"
      ],
      "execution_count": null,
      "outputs": []
    },
    {
      "cell_type": "code",
      "metadata": {
        "colab": {
          "base_uri": "https://localhost:8080/"
        },
        "id": "Oj7KFMqGvS0M",
        "outputId": "48785fe5-97a9-49d6-f252-853a35e62b8c"
      },
      "source": [
        "print('Akurasi = ', accuracy_score(y_test, predict))\n",
        "print(confusion_matrix(y_test, predict))\n",
        "print(classification_report(y_test, predict))"
      ],
      "execution_count": null,
      "outputs": [
        {
          "output_type": "stream",
          "name": "stdout",
          "text": [
            "Akurasi =  0.8966666666666666\n",
            "[[137  13]\n",
            " [ 18 132]]\n",
            "              precision    recall  f1-score   support\n",
            "\n",
            "         0.0       0.88      0.91      0.90       150\n",
            "         1.0       0.91      0.88      0.89       150\n",
            "\n",
            "    accuracy                           0.90       300\n",
            "   macro avg       0.90      0.90      0.90       300\n",
            "weighted avg       0.90      0.90      0.90       300\n",
            "\n"
          ]
        }
      ]
    },
    {
      "cell_type": "code",
      "metadata": {
        "colab": {
          "base_uri": "https://localhost:8080/"
        },
        "id": "qGqhdNFovV5B",
        "outputId": "961b72a6-e521-4c76-8fa3-b0db0245afb3"
      },
      "source": [
        "# f1_score\n",
        "print(\"f1 score hasil prediksi adalah: \")\n",
        "print(f1_score(y_test, predict))\n",
        "\n",
        "# accuracy score\n",
        "print(\"accuracy score hasil prediksi adalah: \")\n",
        "print(accuracy_score(y_test, predict))\n",
        "\n",
        "# precision score\n",
        "print(\"precision score hasil prediksi adalah: \")\n",
        "print(precision_score(y_test, predict))\n",
        "\n",
        "# recall score\n",
        "print(\"recall score hasil prediksi adalah: \")\n",
        "print(recall_score(y_test, predict))"
      ],
      "execution_count": null,
      "outputs": [
        {
          "output_type": "stream",
          "name": "stdout",
          "text": [
            "f1 score hasil prediksi adalah: \n",
            "0.8949152542372882\n",
            "accuracy score hasil prediksi adalah: \n",
            "0.8966666666666666\n",
            "precision score hasil prediksi adalah: \n",
            "0.9103448275862069\n",
            "recall score hasil prediksi adalah: \n",
            "0.88\n"
          ]
        }
      ]
    },
    {
      "cell_type": "code",
      "metadata": {
        "colab": {
          "base_uri": "https://localhost:8080/"
        },
        "id": "vUNIdN0EvZm6",
        "outputId": "d14f0e49-48ad-4173-a359-5abc531269d2"
      },
      "source": [
        "# confusion matrix\n",
        "tn, fp, fn, tp = confusion_matrix(y_test, predict).ravel()\n",
        "tn, fp, fn, tp"
      ],
      "execution_count": null,
      "outputs": [
        {
          "output_type": "execute_result",
          "data": {
            "text/plain": [
              "(137, 13, 18, 132)"
            ]
          },
          "metadata": {},
          "execution_count": 41
        }
      ]
    }
  ]
}